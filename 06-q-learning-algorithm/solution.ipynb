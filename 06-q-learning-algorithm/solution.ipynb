{
 "cells": [
  {
   "cell_type": "markdown",
   "metadata": {},
   "source": [
    "## **Zadanie 6 - Q-learning**\n",
    "Cel zadania polega na implementacji algorytmu Q-learning oraz zastosowaniu go do rozwiązania problemu [Cliff Walking](https://gymnasium.farama.org/environments/toy_text/cliff_walking/). Środowisko to jest dostępne w pakiecie gymnasium `(gym.make('CliffWalking-v0')`.\n",
    "\n",
    "**Kroki do wykonania:**\n",
    "1. Implementacja algorytmu Q-learning.\n",
    "2. Zbadanie skuteczności działania algorytmu dla problemu Cliff Walking dla różnych wartości współczynnika uczenia i różnej liczby epizodów (w procesie trenowania).\n",
    "\n",
    "**Uwagi:**\n",
    "- Implementacja algorytmu powinna być uniwersalna, tzn. możliwa do wykorzystania dla różnych środowisk o dyskretnej przestrzeni stanów i akcji."
   ]
  },
  {
   "cell_type": "code",
   "execution_count": 5,
   "metadata": {},
   "outputs": [],
   "source": [
    "import numpy as np\n",
    "import gymnasium as gym"
   ]
  },
  {
   "cell_type": "code",
   "execution_count": 56,
   "metadata": {},
   "outputs": [],
   "source": [
    "env = gym.make(\"CliffWalking-v0\", render_mode=\"rgb_array\")"
   ]
  },
  {
   "cell_type": "code",
   "execution_count": 86,
   "metadata": {},
   "outputs": [
    {
     "name": "stdout",
     "output_type": "stream",
     "text": [
      "Observation space: Discrete(48)\n",
      "Action space: Discrete(4)\n"
     ]
    }
   ],
   "source": [
    "# observation and action space\n",
    "print(\"Observation space:\", env.observation_space)\n",
    "print(\"Action space:\", env.action_space)"
   ]
  },
  {
   "cell_type": "code",
   "execution_count": 81,
   "metadata": {},
   "outputs": [],
   "source": [
    "def choose_action(Q, state, epsilon):\n",
    "    if np.random.rand() < epsilon:\n",
    "        return env.action_space.sample()\n",
    "    else:\n",
    "        return np.argmax(Q[state])\n",
    "\n",
    "def train_q_learning(env, beta=0.1, gamma=0.99, max_episodes=5_000):\n",
    "    # create Q table\n",
    "    Q = np.zeros((env.observation_space.n, env.action_space.n))\n",
    "\n",
    "    for step in range(max_episodes):\n",
    "        state, _ = env.reset()\n",
    "\n",
    "        while True:\n",
    "            # choose an action\n",
    "            action = choose_action(Q, state, epsilon=0.1)\n",
    "            next_state, reward, done, _, _= env.step(action)\n",
    "\n",
    "            # update Q table\n",
    "            Q[state, action] += beta * (reward + gamma * np.max(Q[next_state]) - Q[state, action])\n",
    "\n",
    "            state = next_state\n",
    "\n",
    "            if done:\n",
    "                break\n",
    "\n",
    "    return Q"
   ]
  },
  {
   "cell_type": "code",
   "execution_count": 82,
   "metadata": {},
   "outputs": [],
   "source": [
    "def test_q_learning(env, Q):\n",
    "    print(\"Testing Q-learning\")\n",
    "    state, _ = env.reset()\n",
    "    env.render()\n",
    "    total_reward = 0\n",
    "    while True:\n",
    "        action = np.argmax(Q[state])\n",
    "        state, reward, done, _, _ = env.step(action)\n",
    "        env.render()\n",
    "        total_reward += reward\n",
    "        if done:\n",
    "            break\n",
    "    print(\"Total reward:\", total_reward)"
   ]
  },
  {
   "cell_type": "code",
   "execution_count": 83,
   "metadata": {},
   "outputs": [],
   "source": [
    "Q = train_q_learning(env)"
   ]
  },
  {
   "cell_type": "code",
   "execution_count": 84,
   "metadata": {},
   "outputs": [
    {
     "name": "stdout",
     "output_type": "stream",
     "text": [
      "Testing Q-learning\n",
      "Total reward: -13\n"
     ]
    }
   ],
   "source": [
    "test_q_learning(env, Q)"
   ]
  },
  {
   "cell_type": "code",
   "execution_count": 94,
   "metadata": {},
   "outputs": [],
   "source": [
    "# visualize 10 episodes\n",
    "for _ in range(10):\n",
    "    state, _ = env.reset()\n",
    "    env.render()\n",
    "    while True:\n",
    "        action = np.argmax(Q[state])\n",
    "        state, _, done, _, _ = env.step(action)\n",
    "        env.render()\n",
    "        if done:\n",
    "            break"
   ]
  },
  {
   "cell_type": "code",
   "execution_count": null,
   "metadata": {},
   "outputs": [],
   "source": []
  }
 ],
 "metadata": {
  "kernelspec": {
   "display_name": "venv",
   "language": "python",
   "name": "python3"
  },
  "language_info": {
   "codemirror_mode": {
    "name": "ipython",
    "version": 3
   },
   "file_extension": ".py",
   "mimetype": "text/x-python",
   "name": "python",
   "nbconvert_exporter": "python",
   "pygments_lexer": "ipython3",
   "version": "3.11.3"
  }
 },
 "nbformat": 4,
 "nbformat_minor": 2
}
