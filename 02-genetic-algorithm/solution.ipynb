{
 "cells": [
  {
   "cell_type": "markdown",
   "metadata": {},
   "source": [
    "## **Zadanie 2 - Algorytm genetyczny**"
   ]
  },
  {
   "cell_type": "markdown",
   "metadata": {},
   "source": [
    "Cel zadania polega na implementacji algorytmu genetycznego z mutacją, selekcją ruletkową, krzyżowaniem jednopunktowym oraz sukcesją generacyjną.\n",
    "\n",
    "Zaimplementowany algorytm ma następnie posłużyć do optymalizacji klasycznego, symetrycznego [problemu komiwojażera](https://pl.wikipedia.org/wiki/Problem_komiwojażera).\n",
    "\n",
    "**Dane:**\n",
    "| Miasto | Współrzędne |\n",
    "|--------|-------------|\n",
    "| A      | (0, 0)      |\n",
    "| B      | (1, 3)      |\n",
    "| C      | (2, 1)      |\n",
    "| D      | (4, 6)      |\n",
    "| E      | (5, 2)      |\n",
    "| F      | (6, 5)      |\n",
    "| G      | (8, 7)      |\n",
    "| H      | (9, 4)      |\n",
    "| I      | (10, 8)     |\n",
    "| J      | (12, 3)     |\n",
    "\n",
    "**Kroki do wykonania**\n",
    "- Implementacja algorytmu genetycznego.\n",
    "- Zastosowanie algorytmu do rozwiązania problemu komiwojażera. Eksperymentalne dobranie zestawu parametrów, dla którego algorytm daje dobry wynik.\n",
    "- Zbadanie, w jaki sposób następujące zmiany wpłyną na rezultaty osiągane przez algorytm:\n",
    "  - Zwiększenie prawdopodobieństwa mutacji.\n",
    "  - Zmiana sposobu selekcji na turniejową.\n",
    "\n",
    "**Uwagi**\n",
    "- Ze względu na losowy charakter algorytmu, konieczne jest porównanie uzyskiwanych rezultatów jego działania dla wielu uruchomień i uśrednienie wyników.\n",
    "- Funkcję przystosowania możemy zdefiniować jako odwrotność łącznej długości trasy dla danej permutacji miast odwiedzanych przez komiwojażera.\n",
    "- Interesującym, choć nieobowiązkowym dodatkiem byłoby zastosowanie do kodowania osobników kodu Graya. Szczegóły omówione są w podrozdziale 4.2 książki Pawła Wawrzyńskiego Podstawy sztucznej inteligencji (dostępna m.in. online)."
   ]
  },
  {
   "cell_type": "code",
   "execution_count": null,
   "metadata": {},
   "outputs": [],
   "source": [
    "import copy\n",
    "from typing import List, Tuple, Optional, Callable\n",
    "\n",
    "import pandas as pd\n",
    "import numpy as np\n",
    "import matplotlib.pyplot as plt\n",
    "from tqdm import tqdm"
   ]
  },
  {
   "cell_type": "markdown",
   "metadata": {},
   "source": [
    "### Implementacja algorytmu genetycznego"
   ]
  },
  {
   "cell_type": "code",
   "execution_count": null,
   "metadata": {},
   "outputs": [],
   "source": [
    "GENES = [0, 1]\n",
    "POPULATION_SIZE = 100\n",
    "MUTATION_PROBABILITY = 0.01\n",
    "CROSSOVER_PROBABILITY = 0.7\n",
    "MAX_GENERATIONS = 100"
   ]
  },
  {
   "cell_type": "markdown",
   "metadata": {},
   "source": [
    "**Osobonik** reprezentuje punkt w przeszukiwanej przestrzeni. W przypadku problemu komiwojażera jest to permutacja miast."
   ]
  },
  {
   "cell_type": "code",
   "execution_count": null,
   "metadata": {},
   "outputs": [],
   "source": [
    "class Individual:\n",
    "    def __init__(self, ind_length: int = None, genes: Optional[np.ndarray] = None) -> None:\n",
    "        if ind_length is None and genes is None:\n",
    "            raise ValueError('Either genes or ind_length must be provided')\n",
    "        self.genes = genes if genes is not None else self.generate_individual(ind_length)\n",
    "\n",
    "    def __str__(self) -> str:\n",
    "        return f'{self.genes}'\n",
    "\n",
    "    def __len__(self) -> int:\n",
    "        return len(self.genes)\n",
    "\n",
    "    def generate_individual(self, ind_length: int) -> np.ndarray:\n",
    "        return np.random.randint(2, size=ind_length)"
   ]
  },
  {
   "cell_type": "code",
   "execution_count": null,
   "metadata": {},
   "outputs": [],
   "source": [
    "ind = Individual(10)\n",
    "print(f\"Generated individual: {ind} with length {len(ind)}.\")"
   ]
  },
  {
   "cell_type": "markdown",
   "metadata": {},
   "source": [
    "**Populacja** to zbiór osobników przetwarzanych w każdej iteracji algorytmu."
   ]
  },
  {
   "cell_type": "code",
   "execution_count": null,
   "metadata": {},
   "outputs": [],
   "source": [
    "class Population:\n",
    "    def __init__(self, individuals: Optional[List[Individual]]) -> None:\n",
    "        self.individuals = individuals\n",
    "\n",
    "    def __str__(self):\n",
    "        for i, ind in enumerate(self.individuals):\n",
    "            print(f'Individual {i + 1}: {ind}')\n",
    "        return ''\n",
    "\n",
    "    def __len__(self):\n",
    "        return len(self.individuals)\n",
    "\n",
    "    def get_fitness_values(self, objective_function: Callable[[np.ndarray], float]) -> List[float]:\n",
    "        return [objective_function(ind.genes) for ind in self.individuals]\n",
    "\n",
    "    def get_best_individual(self, fitness_values: List[float]) -> Tuple[Individual, float]:\n",
    "        return self.individuals[np.argmin(fitness_values)], np.min(fitness_values)\n"
   ]
  },
  {
   "cell_type": "code",
   "execution_count": null,
   "metadata": {},
   "outputs": [],
   "source": [
    "individuals = [Individual(10) for _ in range(POPULATION_SIZE)]\n",
    "population = Population(individuals)\n",
    "print(f\"Generated population with {len(population)} individuals.\")"
   ]
  },
  {
   "cell_type": "code",
   "execution_count": null,
   "metadata": {},
   "outputs": [],
   "source": [
    "def objective_function(ind_genes: np.ndarray) -> float:\n",
    "    return -np.sum(ind_genes)"
   ]
  },
  {
   "cell_type": "code",
   "execution_count": null,
   "metadata": {},
   "outputs": [],
   "source": [
    "population_fitness = population.get_fitness_values(objective_function)\n",
    "best_individual, best_fitness = population.get_best_individual(population_fitness)\n",
    "print(f\"Best individual: {best_individual} with fitness {best_fitness}.\")"
   ]
  },
  {
   "cell_type": "code",
   "execution_count": null,
   "metadata": {},
   "outputs": [],
   "source": [
    "class GeneticAlgorithmPath:\n",
    "    def __init__(\n",
    "            self,\n",
    "            objective_function: Callable[[np.ndarray], float],\n",
    "            initial_population: Population,\n",
    "            population_size: int,\n",
    "            mutation_prob: float,\n",
    "            crossover_prob: float,\n",
    "            max_generations: int\n",
    "        ) -> None:\n",
    "        self.objective_function = objective_function\n",
    "        self.population = initial_population\n",
    "        self.population_size = population_size\n",
    "        self.mutation_prob = mutation_prob\n",
    "        self.crossover_prob = crossover_prob\n",
    "        self.max_generations = max_generations\n",
    "\n",
    "    def run(self) -> Tuple[Individual, float]:\n",
    "        t = 0\n",
    "        o = self.population.get_fitness_values(self.objective_function)\n",
    "        x_best, o_best = self.population.get_best_individual(o)\n",
    "\n",
    "        while t < self.max_generations:\n",
    "            R = self.roulette_wheel_selection(self.population, o, self.population_size)\n",
    "            M = self.crossover_and_mutation(R)\n",
    "            o = M.get_fitness_values(self.objective_function)\n",
    "\n",
    "            x_best_new, o_best_new = M.get_best_individual(o)\n",
    "\n",
    "            if o_best_new <= o_best:\n",
    "                x_best, o_best = x_best_new, o_best_new\n",
    "\n",
    "            self.population = M\n",
    "            t += 1\n",
    "\n",
    "        print(f'Generation {t}: best individual {x_best} with fitness {o_best}')\n",
    "\n",
    "        return x_best, o_best\n",
    "\n",
    "\n",
    "    def roulette_wheel_selection(self, population_t, fitness_values, population_size):\n",
    "        pop_individuals = population_t.individuals\n",
    "        probabilities = fitness_values / np.sum(fitness_values)\n",
    "        return Population(np.random.choice(pop_individuals, size=population_size, p=probabilities))\n",
    "\n",
    "    def crossover_and_mutation(self, R):\n",
    "        new_population = []\n",
    "\n",
    "        individuals_t = R.individuals\n",
    "\n",
    "        for i in range(0, len(individuals_t), 2):\n",
    "            parent1, parent2 = individuals_t[i], individuals_t[i + 1]\n",
    "            child1, child2 = None, None\n",
    "\n",
    "            if np.random.rand() < self.crossover_prob:\n",
    "                crossover_point = np.random.randint(0, len(parent1))\n",
    "                child1 = np.concatenate((parent1.genes[:crossover_point], parent2.genes[crossover_point:]))\n",
    "                child2 = np.concatenate((parent2.genes[:crossover_point], parent1.genes[crossover_point:]))\n",
    "\n",
    "            if child1 is not None and child2 is not None:\n",
    "                new_population.append(Individual(genes=child1))\n",
    "                new_population.append(Individual(genes=child2))\n",
    "            else:\n",
    "                new_population.append(parent1)\n",
    "                new_population.append(parent2)\n",
    "\n",
    "\n",
    "        for i in range(len(new_population)):\n",
    "            for j in range(len(new_population[i])):\n",
    "                if np.random.rand() < self.mutation_prob:\n",
    "                    new_population[i].genes[j] = 1 - new_population[i].genes[j]\n",
    "\n",
    "        return Population(new_population)\n"
   ]
  },
  {
   "cell_type": "code",
   "execution_count": null,
   "metadata": {},
   "outputs": [],
   "source": [
    "population = Population([Individual(100) for _ in range(POPULATION_SIZE)])"
   ]
  },
  {
   "cell_type": "code",
   "execution_count": null,
   "metadata": {},
   "outputs": [],
   "source": [
    "ga = GeneticAlgorithmPath(objective_function, population, POPULATION_SIZE, MUTATION_PROBABILITY, CROSSOVER_PROBABILITY, MAX_GENERATIONS)\n",
    "\n",
    "x_best, o_best = ga.run()"
   ]
  },
  {
   "cell_type": "markdown",
   "metadata": {},
   "source": [
    "### Zastosowanie algorytmu do rozwiązania problemu komiwojażera"
   ]
  },
  {
   "cell_type": "code",
   "execution_count": null,
   "metadata": {},
   "outputs": [],
   "source": [
    "city_data = {\n",
    "    'Miasto': ['A', 'B', 'C', 'D', 'E', 'F', 'G', 'H', 'I', 'J'],\n",
    "    'x': [0, 1, 2, 4, 5, 6, 8, 9, 10, 12],\n",
    "    'y': [0, 3, 1, 6, 2, 5, 7, 4, 8, 3]\n",
    "}"
   ]
  },
  {
   "cell_type": "code",
   "execution_count": null,
   "metadata": {},
   "outputs": [],
   "source": [
    "df = pd.DataFrame(city_data)\n",
    "df.head()"
   ]
  },
  {
   "cell_type": "code",
   "execution_count": null,
   "metadata": {},
   "outputs": [],
   "source": [
    "def visualize_map(df, paths=None):\n",
    "    plt.figure(figsize=(8, 8))\n",
    "    plt.scatter(df['x'], df['y'], s=200)\n",
    "\n",
    "    for _, row in df.iterrows():\n",
    "        plt.text(row['x'], row['y'], row['Miasto'], fontsize=10, ha='center', va='center')\n",
    "\n",
    "    if paths:\n",
    "        for path in paths:\n",
    "            x_values = [df.loc[i, 'x'] for i in path]\n",
    "            y_values = [df.loc[i, 'y'] for i in path]\n",
    "            plt.plot(x_values, y_values, marker='o')\n",
    "\n",
    "    plt.title('Visualization of Cities')\n",
    "    plt.xlabel('x')\n",
    "    plt.ylabel('y')\n",
    "    plt.grid(True)\n",
    "    plt.show()"
   ]
  },
  {
   "cell_type": "code",
   "execution_count": null,
   "metadata": {},
   "outputs": [],
   "source": [
    "cities_list = df['Miasto'].values\n",
    "cities_list"
   ]
  },
  {
   "cell_type": "code",
   "execution_count": null,
   "metadata": {},
   "outputs": [],
   "source": [
    "np.random.permutation(cities_list)"
   ]
  },
  {
   "cell_type": "code",
   "execution_count": null,
   "metadata": {},
   "outputs": [],
   "source": [
    "class IndividualPath:\n",
    "    def __init__(self, genes: Optional[np.ndarray] = None, cities: Optional[np.ndarray] = None) -> None:\n",
    "        if genes is None and cities is None:\n",
    "            raise ValueError('Either genes or cities must be provided')\n",
    "        self.genes = genes if genes is not None else self.generate_individual(cities)\n",
    "\n",
    "    def __str__(self):\n",
    "        return f'{self.genes}'\n",
    "\n",
    "    def __len__(self):\n",
    "        return len(self.genes)\n",
    "\n",
    "    def generate_individual(self, cities: np.ndarray) -> np.ndarray:\n",
    "        return np.random.permutation(cities)"
   ]
  },
  {
   "cell_type": "code",
   "execution_count": null,
   "metadata": {},
   "outputs": [],
   "source": [
    "ind = IndividualPath(cities=cities_list)\n",
    "print(f\"Generated individual: {ind} with length {len(ind)}.\")"
   ]
  },
  {
   "cell_type": "code",
   "execution_count": null,
   "metadata": {},
   "outputs": [],
   "source": [
    "def calculate_distance(city1, city2, df):\n",
    "    x1, y1 = df[df['Miasto'] == city1].values[0][1:]\n",
    "    x2, y2 = df[df['Miasto'] == city2].values[0][1:]\n",
    "\n",
    "    return np.sqrt((x2 - x1)**2 + (y2 - y1)**2)\n",
    "\n",
    "def objective_function_distance(ind_genes: np.ndarray, df: pd.DataFrame = df) -> float:\n",
    "    return 1 / (sum([calculate_distance(ind_genes[i], ind_genes[i + 1], df) for i in range(len(ind_genes) - 1)]) + calculate_distance(ind_genes[-1], ind_genes[0], df))"
   ]
  },
  {
   "cell_type": "code",
   "execution_count": null,
   "metadata": {},
   "outputs": [],
   "source": [
    "objective_function_distance(ind.genes, df)"
   ]
  },
  {
   "cell_type": "code",
   "execution_count": null,
   "metadata": {},
   "outputs": [],
   "source": [
    "class PopulationPath:\n",
    "    def __init__(self, individuals: List[IndividualPath]) -> None:\n",
    "        self.individuals = individuals\n",
    "\n",
    "    def __str__(self):\n",
    "        for i, ind in enumerate(self.individuals):\n",
    "            print(f'Individual {i + 1}: {ind}')\n",
    "        return ''\n",
    "\n",
    "    def __len__(self):\n",
    "        return len(self.individuals)\n",
    "\n",
    "    def get_fitness_values(self, objective_function: Callable[[np.ndarray], float]) -> List[float]:\n",
    "        return [objective_function(ind.genes) for ind in self.individuals]\n",
    "\n",
    "    def get_best_individual(self, fitness_values: List[float]) -> Tuple[IndividualPath, float]:\n",
    "        return self.individuals[np.argmax(fitness_values)], np.max(fitness_values)"
   ]
  },
  {
   "cell_type": "code",
   "execution_count": null,
   "metadata": {},
   "outputs": [],
   "source": [
    "individuals = [IndividualPath(cities=cities_list) for _ in range(200)]\n",
    "population = PopulationPath(individuals)"
   ]
  },
  {
   "cell_type": "markdown",
   "metadata": {},
   "source": [
    "Funkcja przystosowania dla problemu komiwojażera to odwrotność łącznej długości trasy dla danej permutacji miast odwiedzanych przez komiwojażera."
   ]
  },
  {
   "cell_type": "code",
   "execution_count": null,
   "metadata": {},
   "outputs": [],
   "source": [
    "class GeneticAlgorithmPath:\n",
    "    def __init__(\n",
    "            self,\n",
    "            objective_function: Callable[[np.ndarray], float],\n",
    "            initial_population: PopulationPath,\n",
    "            population_size: int,\n",
    "            mutation_prob: float,\n",
    "            crossover_prob: float,\n",
    "            max_generations: int,\n",
    "            selection_method: str ='roulette_wheel',\n",
    "            print_results: bool = False\n",
    "        ):\n",
    "        self.objective_function = objective_function\n",
    "        self.population = initial_population\n",
    "        self.population_size = population_size\n",
    "        self.mutation_prob = mutation_prob\n",
    "        self.crossover_prob = crossover_prob\n",
    "        self.max_generations = max_generations\n",
    "        self.selection_method = selection_method\n",
    "        self.print_results = print_results\n",
    "\n",
    "    def run(self) -> Tuple[IndividualPath, float]:\n",
    "        o = self.population.get_fitness_values(self.objective_function)\n",
    "        x_best, o_best = self.population.get_best_individual(o)\n",
    "\n",
    "        for t in tqdm(range(self.max_generations)):\n",
    "            if self.print_results and t % 10 == 0:\n",
    "                print(f'Generation {t}: best individual {x_best} with fitness {o_best}')\n",
    "            if self.selection_method == 'roulette_wheel':\n",
    "                R = self.roulette_wheel_selection(self.population, o)\n",
    "            elif self.selection_method == 'tournament':\n",
    "                R = self.tournament_selection(self.population, o)\n",
    "            M = self.crossover_and_mutation(R)\n",
    "            o = M.get_fitness_values(self.objective_function)\n",
    "            x_best_new, o_best_new = M.get_best_individual(o)\n",
    "\n",
    "            if o_best_new > o_best:\n",
    "                x_best, o_best = x_best_new, o_best_new\n",
    "\n",
    "            self.population = M\n",
    "\n",
    "        return x_best, o_best\n",
    "\n",
    "\n",
    "    def roulette_wheel_selection(self, population_t: PopulationPath, fitness_values: List[float]) -> PopulationPath:\n",
    "        pop_individuals = population_t.individuals\n",
    "        probabilities = fitness_values / np.sum(fitness_values)\n",
    "        return PopulationPath(np.random.choice(pop_individuals, size=self.population_size, p=probabilities))\n",
    "\n",
    "    def tournament_selection(self, population_t: PopulationPath, fitness_values: List[float]) -> PopulationPath:\n",
    "        k = 2\n",
    "        pop_individuals = population_t.individuals\n",
    "        selected = []\n",
    "        for _ in range(self.population_size):\n",
    "            idx = np.random.choice(range(len(population_t)), k)\n",
    "            if fitness_values[idx[0]] > fitness_values[idx[1]]:\n",
    "                selected.append(pop_individuals[idx[0]])\n",
    "            else:\n",
    "                selected.append(pop_individuals[idx[1]])\n",
    "\n",
    "        return PopulationPath(selected)\n",
    "\n",
    "    def crossover_and_mutation(self, R: PopulationPath) -> PopulationPath:\n",
    "        new_population = []\n",
    "\n",
    "        current_population = copy.copy(R.individuals)\n",
    "        for i in range(0, len(current_population), 2):\n",
    "            parent1, parent2 = current_population[i], current_population[i + 1]\n",
    "            child1, child2 = None, None\n",
    "\n",
    "            if np.random.rand() < self.crossover_prob:\n",
    "                crossover_point = np.random.randint(0, len(parent1))\n",
    "                child1 = parent1.genes[:crossover_point]\n",
    "                child2 = parent2.genes[:crossover_point]\n",
    "\n",
    "                for city in parent2.genes:\n",
    "                    if city not in child1:\n",
    "                        child1 = np.append(child1, city)\n",
    "\n",
    "                for city in parent1.genes:\n",
    "                    if city not in child2:\n",
    "                        child2 = np.append(child2, city)\n",
    "\n",
    "            if child1 is not None and child2 is not None:\n",
    "                new_population.append(IndividualPath(child1))\n",
    "                new_population.append(IndividualPath(child2))\n",
    "            else:\n",
    "                new_population.append(parent1)\n",
    "                new_population.append(parent2)\n",
    "\n",
    "        for i in range(len(new_population)):\n",
    "            for j in range(len(new_population[i])):\n",
    "                if np.random.rand() < self.mutation_prob:\n",
    "                    idx1, idx2 = np.random.choice(len(new_population[i]), 2)\n",
    "                    new_population[i].genes[idx1], new_population[i].genes[idx2] = new_population[i].genes[idx2], new_population[i].genes[idx1]\n",
    "\n",
    "        return PopulationPath(new_population)"
   ]
  },
  {
   "cell_type": "code",
   "execution_count": null,
   "metadata": {},
   "outputs": [],
   "source": [
    "population = PopulationPath([IndividualPath(cities=cities_list) for _ in range(300)])"
   ]
  },
  {
   "cell_type": "code",
   "execution_count": null,
   "metadata": {},
   "outputs": [],
   "source": [
    "population_t = PopulationPath([IndividualPath(cities=cities_list) for _ in range(200)])\n",
    "ga_city = GeneticAlgorithmPath(objective_function_distance, population_t, len(population_t), 0.01, 0.8, 200)\n",
    "\n",
    "best_path, best_fitness = ga_city.run()"
   ]
  },
  {
   "cell_type": "code",
   "execution_count": null,
   "metadata": {},
   "outputs": [],
   "source": [
    "collect_best = []\n",
    "\n",
    "for _ in range(10):\n",
    "    population_t = copy.deepcopy(population)\n",
    "    ga_city = GeneticAlgorithmPath(objective_function_distance, population_t, len(population_t), 0.01, 0.8, 200)\n",
    "    x_best, o_best = ga_city.run()\n",
    "    print(f'Best individual: {x_best} with fitness {o_best}')\n",
    "    collect_best.append((x_best, o_best))"
   ]
  },
  {
   "cell_type": "code",
   "execution_count": null,
   "metadata": {},
   "outputs": [],
   "source": [
    "def visualize_map_with_path(path, df):\n",
    "    plt.figure(figsize=(6,6))\n",
    "    plt.scatter(df['x'], df['y'], s=200)\n",
    "\n",
    "    for _, row in df.iterrows():\n",
    "        plt.text(row['x'], row['y'], row['Miasto'], fontsize=10, ha='center', va='center')\n",
    "\n",
    "    for i in range(len(path) - 1):\n",
    "        city1 = path[i]\n",
    "        city2 = path[i + 1]\n",
    "\n",
    "        x1, y1 = df[df['Miasto'] == city1].values[0][1:]\n",
    "        x2, y2 = df[df['Miasto'] == city2].values[0][1:]\n",
    "\n",
    "        plt.plot([x1, x2], [y1, y2], 'k-')\n",
    "\n",
    "    plt.plot([df[df['Miasto'] == path[-1]].values[0][1], df[df['Miasto'] == path[0]].values[0][1]], [df[df['Miasto'] == path[-1]].values[0][2], df[df['Miasto'] == path[0]].values[0][2]], 'k-')\n",
    "\n",
    "    plt.title(f'Wizualizacja ścieżki {\"\".join(path)}')\n",
    "    plt.xlabel('x')\n",
    "    plt.ylabel('y')\n",
    "    plt.show()"
   ]
  },
  {
   "cell_type": "code",
   "execution_count": null,
   "metadata": {},
   "outputs": [],
   "source": [
    "visualize_map_with_path(best_path.genes, df)"
   ]
  },
  {
   "cell_type": "code",
   "execution_count": null,
   "metadata": {},
   "outputs": [],
   "source": [
    "def calculate_path_total_distance(path, df):\n",
    "    return sum([calculate_distance(path[i], path[i + 1], df) for i in range(len(path) - 1)]) + calculate_distance(path[-1], path[0], df)"
   ]
  },
  {
   "cell_type": "code",
   "execution_count": null,
   "metadata": {},
   "outputs": [],
   "source": [
    "calculate_path_total_distance(best_path.genes, df)"
   ]
  },
  {
   "cell_type": "markdown",
   "metadata": {},
   "source": [
    "### Zbadanie wpływu zmian na rezultaty osiągane przez algorytm"
   ]
  },
  {
   "cell_type": "markdown",
   "metadata": {},
   "source": [
    "#### Zwiększenie prawdopodobieństwa mutacji"
   ]
  },
  {
   "cell_type": "code",
   "execution_count": null,
   "metadata": {},
   "outputs": [],
   "source": [
    "x_best_path, o_best_path, probs = [], [], []\n",
    "prob_mutation = [0.05, 0.1, 0.2, 0.3, 0.4]\n",
    "\n",
    "for prob in prob_mutation:\n",
    "    for _ in range(5):\n",
    "        population = copy.deepcopy(population)\n",
    "        ga_city = GeneticAlgorithmPath(objective_function_distance, population, len(population), prob, 0.8, 200, selection_method='tournament', print_results=True)\n",
    "        x_best, o_best = ga_city.run()\n",
    "        x_best_path.append(x_best)\n",
    "        o_best_path.append(o_best)\n",
    "        probs.append(prob)"
   ]
  },
  {
   "cell_type": "code",
   "execution_count": null,
   "metadata": {},
   "outputs": [],
   "source": [
    "for i, path in enumerate(x_best_path):\n",
    "    print(f'Path {i + 1}: {path} with total distance {calculate_path_total_distance(path.genes, df)}')"
   ]
  },
  {
   "cell_type": "code",
   "execution_count": null,
   "metadata": {},
   "outputs": [],
   "source": [
    "results = pd.DataFrame({\n",
    "    'Mutation Probability': probs,\n",
    "    'Path': x_best_path,\n",
    "    'Total Score': o_best_path\n",
    "})\n",
    "\n",
    "results.head()"
   ]
  },
  {
   "cell_type": "code",
   "execution_count": null,
   "metadata": {},
   "outputs": [],
   "source": [
    "# create a new df with mean, std and count of the results for each mutation probability. Add min and max values for the total distance\n",
    "results_grouped = results.groupby('Mutation Probability').agg(\n",
    "    Mean_Total_Distance=('Total Score', 'mean'),\n",
    "    Std_Total_Distance=('Total Score', 'std'),\n",
    "    Count=('Total Score', 'count'),\n",
    "    Min_Total_Distance=('Total Score', 'min'),\n",
    "    Max_Total_Distance=('Total Score', 'max')\n",
    ")\n",
    "\n",
    "results_grouped.head()"
   ]
  },
  {
   "cell_type": "code",
   "execution_count": null,
   "metadata": {},
   "outputs": [],
   "source": [
    "# visualize the results\n",
    "\n",
    "plt.figure(figsize=(12, 6))\n",
    "\n",
    "plt.subplot(1, 2, 1)\n",
    "\n",
    "plt.errorbar(results_grouped.index, results_grouped['Mean_Total_Distance'], yerr=results_grouped['Std_Total_Distance'], fmt='o', capsize=5)\n",
    "\n",
    "plt.title('Średnia wartość odwronej odległości w zależności od prawdopodobieństwa mutacji')\n",
    "plt.xlabel('Prawdopodobieństwo mutacji')\n",
    "plt.ylabel('Średnia wartość odległości')\n",
    "plt.grid(True)"
   ]
  },
  {
   "cell_type": "markdown",
   "metadata": {},
   "source": [
    "#### Zmiana sposobu selekcji na turniejową"
   ]
  },
  {
   "cell_type": "code",
   "execution_count": null,
   "metadata": {},
   "outputs": [],
   "source": [
    "tournament_results, roulette_wheel_results = [], []\n",
    "\n",
    "for _ in range(5):\n",
    "    population = copy.deepcopy(population)\n",
    "    ga_city = GeneticAlgorithmPath(objective_function_distance, population, len(population), 0.001, 0.8, 200, selection_method='tournament')\n",
    "    x_best, o_best = ga_city.run()\n",
    "    tournament_results.append((x_best, o_best))\n",
    "\n",
    "for _ in range(5):\n",
    "    population = copy.deepcopy(population)\n",
    "    ga_city = GeneticAlgorithmPath(objective_function_distance, population, len(population), 0.001, 0.8, 200)\n",
    "    x_best, o_best = ga_city.run()\n",
    "    roulette_wheel_results.append((x_best, o_best))"
   ]
  },
  {
   "cell_type": "code",
   "execution_count": null,
   "metadata": {},
   "outputs": [],
   "source": [
    "for i, (path, score) in enumerate(tournament_results):\n",
    "    print(f'Tournament Path {i + 1}: {path} with total distance {calculate_path_total_distance(path.genes, df)}')\n",
    "\n",
    "for i, (path, score) in enumerate(roulette_wheel_results):\n",
    "    print(f'Roulette Wheel Path {i + 1}: {path} with total distance {calculate_path_total_distance(path.genes, df)}')"
   ]
  }
 ],
 "metadata": {
  "kernelspec": {
   "display_name": "venv",
   "language": "python",
   "name": "python3"
  },
  "language_info": {
   "codemirror_mode": {
    "name": "ipython",
    "version": 3
   },
   "file_extension": ".py",
   "mimetype": "text/x-python",
   "name": "python",
   "nbconvert_exporter": "python",
   "pygments_lexer": "ipython3",
   "version": "3.11.3"
  }
 },
 "nbformat": 4,
 "nbformat_minor": 2
}
