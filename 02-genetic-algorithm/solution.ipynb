{
 "cells": [
  {
   "cell_type": "markdown",
   "metadata": {},
   "source": [
    "## **Zadanie 2 - Algorytm genetyczny**"
   ]
  },
  {
   "cell_type": "markdown",
   "metadata": {},
   "source": [
    "Cel zadania polega na implementacji algorytmu genetycznego z mutacją, selekcją ruletkową, krzyżowaniem jednopunktowym oraz sukcesją generacyjną.\n",
    "\n",
    "Zaimplementowany algorytm ma następnie posłużyć do optymalizacji klasycznego, symetrycznego [problemu komiwojażera](https://pl.wikipedia.org/wiki/Problem_komiwojażera).\n",
    "\n",
    "**Dane:**\n",
    "| Miasto | Współrzędne |\n",
    "|--------|-------------|\n",
    "| A      | (0, 0)      |\n",
    "| B      | (1, 3)      |\n",
    "| C      | (2, 1)      |\n",
    "| D      | (4, 6)      |\n",
    "| E      | (5, 2)      |\n",
    "| F      | (6, 5)      |\n",
    "| G      | (8, 7)      |\n",
    "| H      | (9, 4)      |\n",
    "| I      | (10, 8)     |\n",
    "| J      | (12, 3)     |\n",
    "\n",
    "**Kroki do wykonania**\n",
    "- Implementacja algorytmu genetycznego.\n",
    "- Zastosowanie algorytmu do rozwiązania problemu komiwojażera. Eksperymentalne dobranie zestawu parametrów, dla którego algorytm daje dobry wynik.\n",
    "- Zbadanie, w jaki sposób następujące zmiany wpłyną na rezultaty osiągane przez algorytm:\n",
    "  - Zwiększenie prawdopodobieństwa mutacji.\n",
    "  - Zmiana sposobu selekcji na turniejową.\n",
    "\n",
    "**Uwagi**\n",
    "- Ze względu na losowy charakter algorytmu, konieczne jest porównanie uzyskiwanych rezultatów jego działania dla wielu uruchomień i uśrednienie wyników.\n",
    "- Funkcję przystosowania możemy zdefiniować jako odwrotność łącznej długości trasy dla danej permutacji miast odwiedzanych przez komiwojażera.\n",
    "- Interesującym, choć nieobowiązkowym dodatkiem byłoby zastosowanie do kodowania osobników kodu Graya. Szczegóły omówione są w podrozdziale 4.2 książki Pawła Wawrzyńskiego Podstawy sztucznej inteligencji (dostępna m.in. online)."
   ]
  }
 ],
 "metadata": {
  "language_info": {
   "name": "python"
  }
 },
 "nbformat": 4,
 "nbformat_minor": 2
}
