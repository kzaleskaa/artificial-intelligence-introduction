{
 "cells": [
  {
   "cell_type": "markdown",
   "metadata": {},
   "source": [
    "## **Zadanie 4 - Drzewo decyzyjne ID3**\n",
    "\n",
    "Cel zadania polega na implementacji drzewa decyzyjnego tworzonego algorytmem ID3 z ograniczeniem maksymalnej głębokości drzewa, jak również na stworzeniu i zbadaniu jakości klasyfikatora dla zbioru danych [Tic-Tac-Toe Endgame](https://archive.ics.uci.edu/dataset/101/tic+tac+toe+endgame).\n",
    "\n",
    "**Kroki do wykonania:**\n",
    "- Zaimplementuj drzewo decyzyjne ID3 (z ograniczeniem jego maksymalnej głębokości).\n",
    "- Zbadaj skuteczność działania kasyfikatora dla zbioru danych Tic-Tac-Toe Endgame, obliczając dokładność i macierz pomyłek.\n",
    "\n",
    "**Uwagi**\n",
    "- Należy pamiętać o podziale danych na zbiory trenujący, walidacyjny i testowy.\n",
    "- Zaimplementowana metoda powinna być uniwersalna - nie należy \"zaszywać\" na sztywno w kodzie np. nazwy pliku ze zbiorem danych czy wartości atrybutów."
   ]
  },
  {
   "cell_type": "code",
   "execution_count": null,
   "metadata": {},
   "outputs": [],
   "source": [
    "import numpy as np\n",
    "from ucimlrepo import fetch_ucirepo\n",
    "from sklearn.model_selection import train_test_split\n",
    "import seaborn as sns\n",
    "import matplotlib.pyplot as plt"
   ]
  },
  {
   "cell_type": "code",
   "execution_count": null,
   "metadata": {},
   "outputs": [],
   "source": [
    "# fetch dataset\n",
    "tic_tac_toe_endgame = fetch_ucirepo(id=101)\n",
    "\n",
    "# data (as pandas dataframes)\n",
    "X = tic_tac_toe_endgame.data.features\n",
    "y = tic_tac_toe_endgame.data.targets"
   ]
  },
  {
   "cell_type": "code",
   "execution_count": null,
   "metadata": {},
   "outputs": [],
   "source": [
    "# metadata\n",
    "print(tic_tac_toe_endgame.metadata)"
   ]
  },
  {
   "cell_type": "code",
   "execution_count": null,
   "metadata": {},
   "outputs": [],
   "source": [
    "# variable information\n",
    "print(tic_tac_toe_endgame.variables)"
   ]
  },
  {
   "cell_type": "code",
   "execution_count": null,
   "metadata": {},
   "outputs": [],
   "source": [
    "from sklearn.preprocessing import LabelEncoder\n",
    "import pandas as pd\n",
    "\n",
    "# encode target\n",
    "le = LabelEncoder()\n",
    "y = le.fit_transform(y)\n",
    "\n",
    "y = pd.Series(y)"
   ]
  },
  {
   "cell_type": "code",
   "execution_count": null,
   "metadata": {},
   "outputs": [],
   "source": [
    "y"
   ]
  },
  {
   "cell_type": "code",
   "execution_count": null,
   "metadata": {},
   "outputs": [],
   "source": [
    "class Node:\n",
    "    def __init__(self):\n",
    "        self.feature_name = None\n",
    "        self.value = None\n",
    "        self.label = None\n",
    "        self.children = []\n",
    "\n",
    "    def add_child(self, child):\n",
    "        self.children.append(child)\n",
    "\n",
    "    def set_feature_name(self, feature_name):\n",
    "        self.feature_name = feature_name\n",
    "\n",
    "    def set_value(self, value):\n",
    "        self.value = value\n",
    "\n",
    "    def set_label(self, label):\n",
    "        self.label = label"
   ]
  },
  {
   "cell_type": "code",
   "execution_count": null,
   "metadata": {},
   "outputs": [],
   "source": [
    "class DecisionTreeID3:\n",
    "    def __init__(self, max_depth = 10, min_samples_split = 2):\n",
    "        self.max_depth = max_depth\n",
    "        self.min_samples_split = min_samples_split\n",
    "\n",
    "    def calculate_dataset_entropy(self, y):\n",
    "        entropy = 0\n",
    "        for class_name in np.unique(y):\n",
    "            p = np.sum(y == class_name) / len(y)\n",
    "            entropy -= p * np.log2(p)\n",
    "        return entropy\n",
    "\n",
    "    def calculate_dataset_divide_entropy(self, feature_name, X, y):\n",
    "        entropy = 0\n",
    "        for value in np.unique(X[feature_name]):\n",
    "            entropy += np.sum(X[feature_name] == value) / len(X) * self.calculate_dataset_entropy(y[X[feature_name] == value])\n",
    "\n",
    "        return entropy\n",
    "\n",
    "    def information_gain(self, X, y, feature):\n",
    "        return self.calculate_dataset_entropy(y) - self.calculate_dataset_divide_entropy(feature, X, y)\n",
    "\n",
    "    def choose_best_feature(self, X, y):\n",
    "        best_feature = None\n",
    "        best_information_gain = 0\n",
    "\n",
    "        for feature in X.columns:\n",
    "            information_gain = self.information_gain(X, y, feature)\n",
    "            if information_gain.item() > best_information_gain:\n",
    "                best_information_gain = information_gain.item()\n",
    "                best_feature = feature\n",
    "\n",
    "        return best_feature\n",
    "\n",
    "    def fit(self, X_train, y_train):\n",
    "        self.root = Node()\n",
    "        self.id3(self.root, X_train, y_train, 0)\n",
    "\n",
    "    def id3(self, node, X, y, depth):\n",
    "        if depth == self.max_depth or len(np.unique(y)) == 1 or len(y) < self.min_samples_split:\n",
    "            # set the value of the node to the most common class in the dataset\n",
    "            node.set_label(np.bincount(y).argmax())\n",
    "            return None\n",
    "\n",
    "        # get split feature\n",
    "        split_feature = self.choose_best_feature(X, y)\n",
    "        if split_feature is None:\n",
    "            return None\n",
    "\n",
    "        node.set_feature_name(split_feature)\n",
    "\n",
    "        # split the data\n",
    "        for value in np.unique(X[split_feature]):\n",
    "            child_node = Node()\n",
    "            child_node.set_value(value)\n",
    "            node.add_child(child_node)\n",
    "            self.id3(child_node, X[X[split_feature] == value], y[X[split_feature] == value], depth + 1)\n",
    "\n",
    "    def predict(self, X):\n",
    "        y_pred = []\n",
    "        for i in range(len(X)):\n",
    "            print(f\"Predicting {i}th row: {X.iloc[i]}\")\n",
    "            y_pred.append(self.predict_single(self.root, X.iloc[i]))\n",
    "\n",
    "        return y_pred\n",
    "\n",
    "    def predict_single(self, node, x):\n",
    "        if node.label is not None:\n",
    "            return node.label\n",
    "\n",
    "        for child in node.children:\n",
    "            if x[node.feature_name] == child.value:\n",
    "                print(f\"Going to {node.feature_name} with value {child.value}\")\n",
    "                return self.predict_single(child, x)\n",
    "\n",
    "    def print_tree(self, node, level=0, prefix=\"Root\"):\n",
    "        indent = \"   \" * level\n",
    "        if node.value is not None:\n",
    "            prefix = f\"{prefix} ({node.value})\"\n",
    "\n",
    "        if node.feature_name is None:\n",
    "            print(f\"{indent}{prefix}: Leaf: {node.label}\")\n",
    "        else:\n",
    "            print(f\"{indent}{prefix}: {node.feature_name}\")\n",
    "\n",
    "        for child in node.children:\n",
    "            self.print_tree(child, level + 1, prefix=f\"-\")"
   ]
  },
  {
   "cell_type": "code",
   "execution_count": null,
   "metadata": {},
   "outputs": [],
   "source": [
    "def get_train_val_test_split(X, y, train_val_test_split = [0.8, 0.1, 0.1]):\n",
    "    # train is now train_val_test_split[0] of the entire data set\n",
    "    X_train, X_test, y_train, y_test = train_test_split(X, y, test_size = 1 - train_val_test_split[0], random_state = 42)\n",
    "    # split the test set into validation and test sets\n",
    "    X_val, X_test, y_val, y_test = train_test_split(X_test, y_test, test_size = train_val_test_split[2]/\n",
    "                                                    (train_val_test_split[1] + train_val_test_split[2]), random_state = 42)\n",
    "    return X_train, X_val, X_test, y_train, y_val, y_test"
   ]
  },
  {
   "cell_type": "code",
   "execution_count": null,
   "metadata": {},
   "outputs": [],
   "source": [
    "X_train, X_val, X_test, y_train, y_val, y_test = get_train_val_test_split(X, y)"
   ]
  },
  {
   "cell_type": "code",
   "execution_count": null,
   "metadata": {},
   "outputs": [],
   "source": [
    "id3_tree = DecisionTreeID3(max_depth = 5)"
   ]
  },
  {
   "cell_type": "code",
   "execution_count": null,
   "metadata": {},
   "outputs": [],
   "source": [
    "id3_tree.fit(X_train, y_train)"
   ]
  },
  {
   "cell_type": "code",
   "execution_count": null,
   "metadata": {},
   "outputs": [],
   "source": [
    "id3_tree.print_tree(id3_tree.root)"
   ]
  },
  {
   "cell_type": "code",
   "execution_count": null,
   "metadata": {},
   "outputs": [],
   "source": [
    "from sklearn.metrics import accuracy_score, classification_report, confusion_matrix"
   ]
  },
  {
   "cell_type": "code",
   "execution_count": null,
   "metadata": {},
   "outputs": [],
   "source": [
    "y_pred = id3_tree.predict(X_test)\n",
    "print(y_pred)"
   ]
  },
  {
   "cell_type": "code",
   "execution_count": null,
   "metadata": {},
   "outputs": [],
   "source": [
    "y_train.value_counts()"
   ]
  },
  {
   "cell_type": "code",
   "execution_count": null,
   "metadata": {},
   "outputs": [],
   "source": [
    "accuracy = accuracy_score(y_test, y_pred)\n",
    "print(f\"Accuracy: {accuracy}\")"
   ]
  },
  {
   "cell_type": "code",
   "execution_count": null,
   "metadata": {},
   "outputs": [],
   "source": [
    "cm = confusion_matrix(y_test, y_pred)\n",
    "cm"
   ]
  },
  {
   "cell_type": "code",
   "execution_count": null,
   "metadata": {},
   "outputs": [],
   "source": [
    "def visualize_cm(cm):\n",
    "    sns.heatmap(cm, annot=True, fmt=\"d\", cmap=\"Blues\", xticklabels=le.classes_, yticklabels=le.classes_)\n",
    "    plt.title(\"Confusion Matrix\")\n",
    "    plt.xlabel(\"Predicted\")\n",
    "    plt.ylabel(\"Actual\")\n",
    "    plt.show()\n",
    "\n",
    "visualize_cm(cm)"
   ]
  },
  {
   "cell_type": "code",
   "execution_count": null,
   "metadata": {},
   "outputs": [],
   "source": []
  }
 ],
 "metadata": {
  "kernelspec": {
   "display_name": "venv",
   "language": "python",
   "name": "python3"
  },
  "language_info": {
   "codemirror_mode": {
    "name": "ipython",
    "version": 3
   },
   "file_extension": ".py",
   "mimetype": "text/x-python",
   "name": "python",
   "nbconvert_exporter": "python",
   "pygments_lexer": "ipython3",
   "version": "3.11.3"
  }
 },
 "nbformat": 4,
 "nbformat_minor": 2
}
