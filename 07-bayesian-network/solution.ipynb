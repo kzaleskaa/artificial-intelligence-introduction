{
 "cells": [
  {
   "cell_type": "markdown",
   "metadata": {},
   "source": [
    "## **Zadanie 7 - Bayesian Network**\n",
    "\n",
    "Cel zadania polega na skonstruowaniu sieci Bayesowskiej oraz zbadaniu wpływu informacji o statusie w MS Teams na prawdopodobieństwo świecenia się światła w pokoju doktorantki K.\n",
    "\n",
    "**Scenariusz**\n",
    "Doktorantka K. (zgodność inicjału imienia całkowicie przypadkowa...) spędza 40% czasu pracy w swoim pokoju na uczelni. Pozostałe 60% czasu pracuje zdalnie. Kiedy K. jest w swoim pokoju, połowę czasu ma wyłączone światło (kiedy próbuje ukryć się przed studentami i pracować nad doktoratem). Gdy nie ma jej w pokoju, zostawia włączone światło tylko w 5% przypadków. W 80% czasu, gdy jest w swoim biurze, K. jest zalogowana w MS Teams. Ponieważ czasami loguje się do Teamsów z domu, w 5% przypadków, gdy nie ma jej na uczelni, nadal jest zalogowana w MS Teams.\n",
    "\n",
    "**Kroki do wykonania:**\n",
    "1. Skonstruuj sieć Bayesowską, aby przedstawić opisany scenariusz.\n",
    "2. Załóżmy, że student sprawdza status K. w MS Teams i widzi, że jest ona zalogowana. Jaki wpływ ma to na przekonanie studenta, że światło w pokoju K. jest włączone?\n",
    "\n",
    "**Uwagi:**\n",
    "- Do implementacji można użyć np. biblioteki [pgmpy](https://pgmpy.org).\n",
    "\n",
    "**Źródło:**\n",
    "\n",
    "Powyższe zadanie jest parafrazą problemu nr 3, rozdz. 2 z książki Bayesian Artificial Intelligence autorstwa Kevina B. Korba i Ann E. Nicholson, CRC press, 2010."
   ]
  },
  {
   "cell_type": "code",
   "execution_count": 167,
   "metadata": {},
   "outputs": [],
   "source": [
    "import networkx as nx\n",
    "import matplotlib.pyplot as plt\n",
    "from pgmpy.models import BayesianNetwork\n",
    "from pgmpy.factors.discrete import TabularCPD\n",
    "from pgmpy.inference import VariableElimination"
   ]
  },
  {
   "cell_type": "code",
   "execution_count": 168,
   "metadata": {},
   "outputs": [],
   "source": [
    "model = BayesianNetwork([(\"office\", \"teams\"), (\"office\", \"light\")])"
   ]
  },
  {
   "cell_type": "code",
   "execution_count": 169,
   "metadata": {},
   "outputs": [],
   "source": [
    "cpd_office = TabularCPD(variable=\"office\", variable_card=2, values=[[0.6], [0.4]])\n",
    "cpd_light = TabularCPD(variable=\"light\", variable_card=2, values=[[0.95, 0.5], [0.05, 0.5]], evidence=[\"office\"], evidence_card=[2])\n",
    "cpd_teams = TabularCPD(variable=\"teams\", variable_card=2, evidence=[\"office\"], evidence_card=[2], values=[[0.95, 0.2], [0.05, 0.8]])"
   ]
  },
  {
   "cell_type": "code",
   "execution_count": 170,
   "metadata": {},
   "outputs": [
    {
     "name": "stdout",
     "output_type": "stream",
     "text": [
      "+-----------+-----+\n",
      "| office(0) | 0.6 |\n",
      "+-----------+-----+\n",
      "| office(1) | 0.4 |\n",
      "+-----------+-----+\n"
     ]
    }
   ],
   "source": [
    "print(cpd_office)"
   ]
  },
  {
   "cell_type": "code",
   "execution_count": 171,
   "metadata": {},
   "outputs": [
    {
     "name": "stdout",
     "output_type": "stream",
     "text": [
      "+----------+-----------+-----------+\n",
      "| office   | office(0) | office(1) |\n",
      "+----------+-----------+-----------+\n",
      "| light(0) | 0.95      | 0.5       |\n",
      "+----------+-----------+-----------+\n",
      "| light(1) | 0.05      | 0.5       |\n",
      "+----------+-----------+-----------+\n"
     ]
    }
   ],
   "source": [
    "print(cpd_light)"
   ]
  },
  {
   "cell_type": "code",
   "execution_count": 172,
   "metadata": {},
   "outputs": [
    {
     "name": "stdout",
     "output_type": "stream",
     "text": [
      "+----------+-----------+-----------+\n",
      "| office   | office(0) | office(1) |\n",
      "+----------+-----------+-----------+\n",
      "| teams(0) | 0.95      | 0.2       |\n",
      "+----------+-----------+-----------+\n",
      "| teams(1) | 0.05      | 0.8       |\n",
      "+----------+-----------+-----------+\n"
     ]
    }
   ],
   "source": [
    "print(cpd_teams)"
   ]
  },
  {
   "cell_type": "code",
   "execution_count": 173,
   "metadata": {},
   "outputs": [],
   "source": [
    "model.add_cpds(cpd_office, cpd_light, cpd_teams)"
   ]
  },
  {
   "cell_type": "code",
   "execution_count": 174,
   "metadata": {},
   "outputs": [
    {
     "data": {
      "text/plain": [
       "[<TabularCPD representing P(office:2) at 0x21615bbcb90>,\n",
       " <TabularCPD representing P(light:2 | office:2) at 0x21615bbe550>,\n",
       " <TabularCPD representing P(teams:2 | office:2) at 0x21615bbd850>]"
      ]
     },
     "execution_count": 174,
     "metadata": {},
     "output_type": "execute_result"
    }
   ],
   "source": [
    "model.get_cpds()"
   ]
  },
  {
   "cell_type": "code",
   "execution_count": 175,
   "metadata": {},
   "outputs": [
    {
     "data": {
      "text/plain": [
       "True"
      ]
     },
     "execution_count": 175,
     "metadata": {},
     "output_type": "execute_result"
    }
   ],
   "source": [
    "model.check_model()"
   ]
  },
  {
   "cell_type": "code",
   "execution_count": 176,
   "metadata": {},
   "outputs": [
    {
     "data": {
      "text/plain": [
       "(teams ⟂ light | office)\n",
       "(light ⟂ teams | office)"
      ]
     },
     "execution_count": 176,
     "metadata": {},
     "output_type": "execute_result"
    }
   ],
   "source": [
    "model.get_independencies()"
   ]
  },
  {
   "cell_type": "code",
   "execution_count": 177,
   "metadata": {},
   "outputs": [],
   "source": [
    "G = nx.DiGraph()\n",
    "\n",
    "G.add_nodes_from(model.nodes())\n",
    "G.add_edges_from(model.edges())"
   ]
  },
  {
   "cell_type": "code",
   "execution_count": 182,
   "metadata": {},
   "outputs": [
    {
     "data": {
      "image/png": "[encoded data removed]",
      "text/plain": [
       "<Figure size 640x480 with 1 Axes>"
      ]
     },
     "metadata": {},
     "output_type": "display_data"
    }
   ],
   "source": [
    "pos = nx.spring_layout(G)\n",
    "nx.draw(G, pos, with_labels=True, node_size=3000, node_color='skyblue', font_size=15, font_weight='bold', arrowsize=20)\n",
    "# plt.title(\"Sieć Bayesowska\")\n",
    "plt.show()"
   ]
  },
  {
   "cell_type": "code",
   "execution_count": 183,
   "metadata": {},
   "outputs": [],
   "source": [
    "inference = VariableElimination(model)"
   ]
  },
  {
   "cell_type": "code",
   "execution_count": 184,
   "metadata": {},
   "outputs": [
    {
     "name": "stdout",
     "output_type": "stream",
     "text": [
      "+----------+--------------+\n",
      "| teams    |   phi(teams) |\n",
      "+==========+==============+\n",
      "| teams(0) |       0.6500 |\n",
      "+----------+--------------+\n",
      "| teams(1) |       0.3500 |\n",
      "+----------+--------------+\n"
     ]
    }
   ],
   "source": [
    "q = inference.query(variables=[\"teams\"])\n",
    "print(q)"
   ]
  },
  {
   "cell_type": "code",
   "execution_count": 185,
   "metadata": {},
   "outputs": [
    {
     "name": "stdout",
     "output_type": "stream",
     "text": [
      "+----------+--------------+\n",
      "| teams    |   phi(teams) |\n",
      "+==========+==============+\n",
      "| teams(0) |       0.7552 |\n",
      "+----------+--------------+\n",
      "| teams(1) |       0.2448 |\n",
      "+----------+--------------+\n"
     ]
    }
   ],
   "source": [
    "q = inference.query(variables=[\"teams\"], evidence={\"light\": 0})\n",
    "print(q)"
   ]
  },
  {
   "cell_type": "code",
   "execution_count": 186,
   "metadata": {},
   "outputs": [
    {
     "name": "stdout",
     "output_type": "stream",
     "text": [
      "+----------+--------------+\n",
      "| teams    |   phi(teams) |\n",
      "+==========+==============+\n",
      "| teams(0) |       0.2978 |\n",
      "+----------+--------------+\n",
      "| teams(1) |       0.7022 |\n",
      "+----------+--------------+\n"
     ]
    }
   ],
   "source": [
    "q = inference.query(variables=[\"teams\"], evidence={\"light\": 1})\n",
    "print(q)"
   ]
  }
 ],
 "metadata": {
  "kernelspec": {
   "display_name": "venv",
   "language": "python",
   "name": "python3"
  },
  "language_info": {
   "codemirror_mode": {
    "name": "ipython",
    "version": 3
   },
   "file_extension": ".py",
   "mimetype": "text/x-python",
   "name": "python",
   "nbconvert_exporter": "python",
   "pygments_lexer": "ipython3",
   "version": "3.11.3"
  }
 },
 "nbformat": 4,
 "nbformat_minor": 2
}
