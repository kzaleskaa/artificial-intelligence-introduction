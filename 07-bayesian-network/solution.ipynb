{
 "cells": [
  {
   "cell_type": "markdown",
   "metadata": {},
   "source": [
    "## **Task 7 - Bayesian Network**\n",
    "\n",
    "Constructing a Bayesian network and studying the effect of status information in MS Teams on the probability of light shining in the room of doctoral student K.\n",
    "\n",
    "**Description**\n",
    "Doctoral student K. spends 40% of her working time in her room at the university. The remaining 60% of the time she works remotely. When K. is in her room, half the time she has the light turned off. When she is not in her room, she leaves the light on only 5% of the time. 80% of the time when she is in her office, K. is logged into MS Teams. Since she sometimes logs into Teams from home, she is still logged into MS Teams 5% of the time when she is not at the university.\n",
    "\n",
    "Translated with DeepL.com (free version)\n",
    "\n",
    "**Steps:**\n",
    "1. Construct a Bayesian network to represent the scenario described.\n",
    "2. Suppose a student checks K.'s status in MS Teams and sees that she is logged in. What effect does this have on convincing the student that the light in K.'s room is on?\n",
    "\n",
    "**Notes:**\n",
    "- For implementation, you can use, for example, the [pgmpy library](https://pgmpy.org)."
   ]
  },
  {
   "cell_type": "code",
   "execution_count": null,
   "metadata": {},
   "outputs": [],
   "source": [
    "import networkx as nx\n",
    "import matplotlib.pyplot as plt\n",
    "from pgmpy.models import BayesianNetwork\n",
    "from pgmpy.factors.discrete import TabularCPD\n",
    "from pgmpy.inference import VariableElimination"
   ]
  },
  {
   "cell_type": "code",
   "execution_count": null,
   "metadata": {},
   "outputs": [],
   "source": [
    "model = BayesianNetwork([(\"office\", \"teams\"), (\"office\", \"light\")])"
   ]
  },
  {
   "cell_type": "code",
   "execution_count": null,
   "metadata": {},
   "outputs": [],
   "source": [
    "cpd_office = TabularCPD(variable=\"office\", variable_card=2, values=[[0.6], [0.4]])\n",
    "cpd_light = TabularCPD(variable=\"light\", variable_card=2, values=[[0.95, 0.5], [0.05, 0.5]], evidence=[\"office\"], evidence_card=[2])\n",
    "cpd_teams = TabularCPD(variable=\"teams\", variable_card=2, evidence=[\"office\"], evidence_card=[2], values=[[0.95, 0.2], [0.05, 0.8]])"
   ]
  },
  {
   "cell_type": "code",
   "execution_count": null,
   "metadata": {},
   "outputs": [],
   "source": [
    "print(cpd_office)"
   ]
  },
  {
   "cell_type": "code",
   "execution_count": null,
   "metadata": {},
   "outputs": [],
   "source": [
    "print(cpd_light)"
   ]
  },
  {
   "cell_type": "code",
   "execution_count": null,
   "metadata": {},
   "outputs": [],
   "source": [
    "print(cpd_teams)"
   ]
  },
  {
   "cell_type": "code",
   "execution_count": null,
   "metadata": {},
   "outputs": [],
   "source": [
    "model.add_cpds(cpd_office, cpd_light, cpd_teams)"
   ]
  },
  {
   "cell_type": "code",
   "execution_count": null,
   "metadata": {},
   "outputs": [],
   "source": [
    "model.get_cpds()"
   ]
  },
  {
   "cell_type": "code",
   "execution_count": null,
   "metadata": {},
   "outputs": [],
   "source": [
    "model.check_model()"
   ]
  },
  {
   "cell_type": "code",
   "execution_count": null,
   "metadata": {},
   "outputs": [],
   "source": [
    "model.get_independencies()"
   ]
  },
  {
   "cell_type": "code",
   "execution_count": null,
   "metadata": {},
   "outputs": [],
   "source": [
    "G = nx.DiGraph()\n",
    "\n",
    "G.add_nodes_from(model.nodes())\n",
    "G.add_edges_from(model.edges())"
   ]
  },
  {
   "cell_type": "code",
   "execution_count": null,
   "metadata": {},
   "outputs": [],
   "source": [
    "pos = nx.spring_layout(G)\n",
    "nx.draw(G, pos, with_labels=True, node_size=3000, node_color='skyblue', font_size=15, font_weight='bold', arrowsize=20)\n",
    "# plt.title(\"Sieć Bayesowska\")\n",
    "plt.show()"
   ]
  },
  {
   "cell_type": "code",
   "execution_count": null,
   "metadata": {},
   "outputs": [],
   "source": [
    "inference = VariableElimination(model)"
   ]
  },
  {
   "cell_type": "code",
   "execution_count": null,
   "metadata": {},
   "outputs": [],
   "source": [
    "q = inference.query(variables=[\"teams\"])\n",
    "print(q)"
   ]
  },
  {
   "cell_type": "code",
   "execution_count": null,
   "metadata": {},
   "outputs": [],
   "source": [
    "q = inference.query(variables=[\"teams\"], evidence={\"light\": 0})\n",
    "print(q)"
   ]
  },
  {
   "cell_type": "code",
   "execution_count": null,
   "metadata": {},
   "outputs": [],
   "source": [
    "q = inference.query(variables=[\"teams\"], evidence={\"light\": 1})\n",
    "print(q)"
   ]
  },
  {
   "cell_type": "code",
   "execution_count": null,
   "metadata": {},
   "outputs": [],
   "source": [
    "q = inference.query(variables=[\"light\"], evidence={\"teams\": 1})\n",
    "print(q)"
   ]
  },
  {
   "cell_type": "code",
   "execution_count": null,
   "metadata": {},
   "outputs": [],
   "source": [
    "q = inference.query(variables=[\"light\"], evidence={\"teams\": 0})\n",
    "print(q)"
   ]
  }
 ],
 "metadata": {
  "kernelspec": {
   "display_name": "venv",
   "language": "python",
   "name": "python3"
  },
  "language_info": {
   "codemirror_mode": {
    "name": "ipython",
    "version": 3
   },
   "file_extension": ".py",
   "mimetype": "text/x-python",
   "name": "python",
   "nbconvert_exporter": "python",
   "pygments_lexer": "ipython3",
   "version": "3.11.3"
  }
 },
 "nbformat": 4,
 "nbformat_minor": 2
}
